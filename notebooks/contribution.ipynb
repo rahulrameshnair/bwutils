{
 "cells": [
  {
   "cell_type": "markdown",
   "metadata": {},
   "source": [
    "# Contribution analysis\n",
    "\n",
    "A demo of the contribution analysis using bwutils."
   ]
  },
  {
   "cell_type": "code",
   "execution_count": 1,
   "metadata": {},
   "outputs": [
    {
     "name": "stdout",
     "output_type": "stream",
     "text": [
      "2.4.7\n"
     ]
    }
   ],
   "source": [
    "import bwutils\n",
    "\n",
    "print(\n",
    "    bwutils.__brightway_version__\n",
    ")  # checks the active brightway version. It should be 2.4.x"
   ]
  }
 ],
 "metadata": {
  "language_info": {
   "name": "python"
  }
 },
 "nbformat": 4,
 "nbformat_minor": 2
}
