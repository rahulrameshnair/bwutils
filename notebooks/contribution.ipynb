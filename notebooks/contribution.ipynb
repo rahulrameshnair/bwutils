{
 "cells": [
  {
   "cell_type": "markdown",
   "metadata": {},
   "source": [
    "# Contribution analysis\n",
    "\n",
    "A demo of the contribution analysis using bwutils."
   ]
  },
  {
   "cell_type": "code",
   "execution_count": 1,
   "metadata": {},
   "outputs": [],
   "source": [
    "%load_ext autoreload\n",
    "%autoreload 2"
   ]
  },
  {
   "cell_type": "code",
   "execution_count": null,
   "metadata": {},
   "outputs": [],
   "source": [
    "import bwutils\n",
    "\n",
    "print(\n",
    "    bwutils.__brightway_version__\n",
    ")  # checks the active brightway version. It should be 2.4.x"
   ]
  },
  {
   "cell_type": "code",
   "execution_count": null,
   "metadata": {},
   "outputs": [],
   "source": [
    "from bwutils import select_values\n",
    "\n",
    "base_folder_name = \"D:\\\\test1.1\"\n",
    "res_directory_names = [\"test1\", \"test2\"]\n",
    "select_values.result_folders(base_folder_name, res_directory_names)"
   ]
  },
  {
   "cell_type": "code",
   "execution_count": 2,
   "metadata": {},
   "outputs": [
    {
     "data": {
      "application/vnd.jupyter.widget-view+json": {
       "model_id": "5f287766a312468f97f1904926095da5",
       "version_major": 2,
       "version_minor": 0
      },
      "text/plain": [
       "Dropdown(description='Assessment methodology:', options=('gum', 'dom', 'hola', 'hellow', 'meow'), value='gum')"
      ]
     },
     "metadata": {},
     "output_type": "display_data"
    },
    {
     "data": {
      "text/plain": [
       "{'value': 'gum'}"
      ]
     },
     "execution_count": 2,
     "metadata": {},
     "output_type": "execute_result"
    },
    {
     "name": "stdout",
     "output_type": "stream",
     "text": [
      "You selected: hellow\n"
     ]
    }
   ],
   "source": [
    "from bwutils import select_values\n",
    "\n",
    "random_names = [\"gum\", \"dom\", \"hola\", \"hellow\", \"meow\"]\n",
    "select_values.single_select_dropdown(random_names)"
   ]
  },
  {
   "cell_type": "code",
   "execution_count": 1,
   "metadata": {},
   "outputs": [],
   "source": [
    "method_names = ia_methods = [\n",
    "    (\"EF v3.1\", \"acidification\", \"accumulated exceedance (AE)\"),\n",
    "    (\"EF v3.1\", \"climate change\", \"global warming potential (GWP100)\"),\n",
    "    (\n",
    "        \"EF v3.1\",\n",
    "        \"ecotoxicity: freshwater\",\n",
    "        \"comparative toxic unit for ecosystems (CTUe)\",\n",
    "    ),\n",
    "    (\n",
    "        \"EF v3.1\",\n",
    "        \"energy resources: non-renewable\",\n",
    "        \"abiotic depletion potential (ADP): fossil fuels\",\n",
    "    ),\n",
    "    (\n",
    "        \"EF v3.1\",\n",
    "        \"eutrophication: freshwater\",\n",
    "        \"fraction of nutrients reaching freshwater end compartment (P)\",\n",
    "    ),\n",
    "    (\n",
    "        \"EF v3.1\",\n",
    "        \"eutrophication: marine\",\n",
    "        \"fraction of nutrients reaching marine end compartment (N)\",\n",
    "    ),\n",
    "    (\"EF v3.1\", \"eutrophication: terrestrial\", \"accumulated exceedance (AE)\"),\n",
    "    (\n",
    "        \"EF v3.1\",\n",
    "        \"human toxicity: carcinogenic\",\n",
    "        \"comparative toxic unit for human (CTUh)\",\n",
    "    ),\n",
    "    (\n",
    "        \"EF v3.1\",\n",
    "        \"ionising radiation: human health\",\n",
    "        \"human exposure efficiency relative to u235\",\n",
    "    ),\n",
    "    (\"EF v3.1\", \"land use\", \"soil quality index\"),\n",
    "    (\n",
    "        \"EF v3.1\",\n",
    "        \"material resources: metals/minerals\",\n",
    "        \"abiotic depletion potential (ADP): elements (ultimate reserves)\",\n",
    "    ),\n",
    "    (\"EF v3.1\", \"ozone depletion\", \"ozone depletion potential (ODP)\"),\n",
    "    (\"EF v3.1\", \"particulate matter formation\", \"impact on human health\"),\n",
    "    (\n",
    "        \"EF v3.1\",\n",
    "        \"photochemical oxidant formation: human health\",\n",
    "        \"tropospheric ozone concentration increase\",\n",
    "    ),\n",
    "    (\n",
    "        \"EF v3.1\",\n",
    "        \"water use\",\n",
    "        \"user deprivation potential (deprivation-weighted water consumption)\",\n",
    "    ),\n",
    "]"
   ]
  },
  {
   "cell_type": "code",
   "execution_count": 3,
   "metadata": {},
   "outputs": [
    {
     "data": {
      "application/vnd.jupyter.widget-view+json": {
       "model_id": "4c986201f5cc47df869eaf0be30fa014",
       "version_major": 2,
       "version_minor": 0
      },
      "text/plain": [
       "SelectMultiple(description='Impact Categories:', layout=Layout(height='320px', width='100%'), options=(('EF v3…"
      ]
     },
     "metadata": {},
     "output_type": "display_data"
    },
    {
     "data": {
      "text/plain": [
       "{'values': ()}"
      ]
     },
     "execution_count": 3,
     "metadata": {},
     "output_type": "execute_result"
    },
    {
     "name": "stdout",
     "output_type": "stream",
     "text": [
      "You selected: [('EF v3.1', 'climate change', 'global warming potential (GWP100)')]\n",
      "You selected: [('EF v3.1', 'ecotoxicity: freshwater', 'comparative toxic unit for ecosystems (CTUe)')]\n",
      "You selected: [('EF v3.1', 'energy resources: non-renewable', 'abiotic depletion potential (ADP): fossil fuels')]\n",
      "You selected: [('EF v3.1', 'eutrophication: freshwater', 'fraction of nutrients reaching freshwater end compartment (P)')]\n",
      "You selected: [('EF v3.1', 'eutrophication: freshwater', 'fraction of nutrients reaching freshwater end compartment (P)'), ('EF v3.1', 'eutrophication: marine', 'fraction of nutrients reaching marine end compartment (N)')]\n",
      "You selected: [('EF v3.1', 'eutrophication: freshwater', 'fraction of nutrients reaching freshwater end compartment (P)'), ('EF v3.1', 'eutrophication: marine', 'fraction of nutrients reaching marine end compartment (N)'), ('EF v3.1', 'eutrophication: terrestrial', 'accumulated exceedance (AE)')]\n",
      "You selected: [('EF v3.1', 'eutrophication: freshwater', 'fraction of nutrients reaching freshwater end compartment (P)'), ('EF v3.1', 'eutrophication: marine', 'fraction of nutrients reaching marine end compartment (N)'), ('EF v3.1', 'eutrophication: terrestrial', 'accumulated exceedance (AE)'), ('EF v3.1', 'material resources: metals/minerals', 'abiotic depletion potential (ADP): elements (ultimate reserves)')]\n",
      "You selected: [('EF v3.1', 'eutrophication: freshwater', 'fraction of nutrients reaching freshwater end compartment (P)'), ('EF v3.1', 'eutrophication: marine', 'fraction of nutrients reaching marine end compartment (N)'), ('EF v3.1', 'eutrophication: terrestrial', 'accumulated exceedance (AE)'), ('EF v3.1', 'material resources: metals/minerals', 'abiotic depletion potential (ADP): elements (ultimate reserves)'), ('EF v3.1', 'particulate matter formation', 'impact on human health')]\n",
      "You selected: [('EF v3.1', 'eutrophication: freshwater', 'fraction of nutrients reaching freshwater end compartment (P)'), ('EF v3.1', 'eutrophication: marine', 'fraction of nutrients reaching marine end compartment (N)'), ('EF v3.1', 'eutrophication: terrestrial', 'accumulated exceedance (AE)'), ('EF v3.1', 'material resources: metals/minerals', 'abiotic depletion potential (ADP): elements (ultimate reserves)'), ('EF v3.1', 'ozone depletion', 'ozone depletion potential (ODP)'), ('EF v3.1', 'particulate matter formation', 'impact on human health')]\n",
      "You selected: [('EF v3.1', 'eutrophication: freshwater', 'fraction of nutrients reaching freshwater end compartment (P)'), ('EF v3.1', 'eutrophication: marine', 'fraction of nutrients reaching marine end compartment (N)'), ('EF v3.1', 'eutrophication: terrestrial', 'accumulated exceedance (AE)'), ('EF v3.1', 'material resources: metals/minerals', 'abiotic depletion potential (ADP): elements (ultimate reserves)'), ('EF v3.1', 'ozone depletion', 'ozone depletion potential (ODP)'), ('EF v3.1', 'particulate matter formation', 'impact on human health'), ('EF v3.1', 'photochemical oxidant formation: human health', 'tropospheric ozone concentration increase')]\n"
     ]
    }
   ],
   "source": [
    "select_values.multi_select_dropdown(method_names)"
   ]
  }
 ],
 "metadata": {
  "language_info": {
   "name": "python"
  }
 },
 "nbformat": 4,
 "nbformat_minor": 2
}
